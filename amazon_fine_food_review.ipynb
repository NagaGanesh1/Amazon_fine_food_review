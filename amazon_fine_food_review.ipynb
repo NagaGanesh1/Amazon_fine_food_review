{
  "nbformat": 4,
  "nbformat_minor": 0,
  "metadata": {
    "colab": {
      "name": "Untitled0.ipynb",
      "provenance": [],
      "collapsed_sections": []
    },
    "kernelspec": {
      "name": "python3",
      "display_name": "Python 3"
    },
    "accelerator": "GPU"
  },
  "cells": [
    {
      "cell_type": "code",
      "metadata": {
        "id": "o_WsbMa-maL4",
        "colab_type": "code",
        "colab": {}
      },
      "source": [
        "import warnings\n",
        "warnings.filterwarnings(\"ignore\")\n",
        "\n",
        "\n",
        "\n",
        "import sqlite3\n",
        "import pandas as pd\n",
        "import numpy as np\n",
        "import nltk\n",
        "import string\n",
        "import matplotlib.pyplot as plt\n",
        "import seaborn as sns\n",
        "from sklearn.feature_extraction.text import TfidfTransformer\n",
        "from sklearn.feature_extraction.text import TfidfVectorizer\n",
        "\n",
        "from sklearn.feature_extraction.text import CountVectorizer\n",
        "from sklearn.metrics import confusion_matrix\n",
        "from sklearn import metrics\n",
        "from sklearn.metrics import roc_curve, auc\n",
        "from nltk.stem.porter import PorterStemmer\n",
        "\n",
        "import re\n",
        "\n",
        "import string\n",
        "from nltk.corpus import stopwords\n",
        "from nltk.stem import PorterStemmer\n",
        "from nltk.stem.wordnet import WordNetLemmatizer\n",
        "\n",
        "from gensim.models import Word2Vec\n",
        "from gensim.models import KeyedVectors\n",
        "import pickle\n",
        "\n",
        "from tqdm import tqdm\n",
        "import os"
      ],
      "execution_count": 0,
      "outputs": []
    },
    {
      "cell_type": "code",
      "metadata": {
        "id": "wfFtT9nd1r-a",
        "colab_type": "code",
        "outputId": "4b615349-9af6-40b3-c5ad-5ba8bb1bb8e6",
        "colab": {
          "base_uri": "https://localhost:8080/",
          "height": 51
        }
      },
      "source": [
        "!unzip '/content/drive/My Drive/applied ai/datasets/18_2157_compressed_database.sqlite.zip'"
      ],
      "execution_count": 2,
      "outputs": [
        {
          "output_type": "stream",
          "text": [
            "Archive:  /content/drive/My Drive/applied ai/datasets/18_2157_compressed_database.sqlite.zip\n",
            "  inflating: database.sqlite         \n"
          ],
          "name": "stdout"
        }
      ]
    },
    {
      "cell_type": "code",
      "metadata": {
        "id": "41Eb3TTqnoYp",
        "colab_type": "code",
        "colab": {}
      },
      "source": [
        "con = sqlite3.connect('/content/database.sqlite') "
      ],
      "execution_count": 0,
      "outputs": []
    },
    {
      "cell_type": "code",
      "metadata": {
        "id": "GN3fqXJWoNXk",
        "colab_type": "code",
        "colab": {}
      },
      "source": [
        "\n",
        "filtered_data = pd.read_sql_query(\"\"\" SELECT * FROM Reviews WHERE Score != 3 LIMIT 5000\"\"\", con) "
      ],
      "execution_count": 0,
      "outputs": []
    },
    {
      "cell_type": "code",
      "metadata": {
        "id": "l212YS9i2UBB",
        "colab_type": "code",
        "colab": {}
      },
      "source": [
        "def partition(x):\n",
        "  if x < 3:\n",
        "    return 0\n",
        "  return 1\n",
        "\n",
        "actualscore=filtered_data['Score']\n",
        "PN=actualscore.map(partition)\n",
        "filtered_data['Score']=PN"
      ],
      "execution_count": 0,
      "outputs": []
    },
    {
      "cell_type": "code",
      "metadata": {
        "id": "nRPdx-jl3GFE",
        "colab_type": "code",
        "outputId": "f32da3b7-3df4-43cd-86e9-9b5f7822085a",
        "colab": {
          "base_uri": "https://localhost:8080/",
          "height": 306
        }
      },
      "source": [
        "filtered_data.head(5)"
      ],
      "execution_count": 6,
      "outputs": [
        {
          "output_type": "execute_result",
          "data": {
            "text/html": [
              "<div>\n",
              "<style scoped>\n",
              "    .dataframe tbody tr th:only-of-type {\n",
              "        vertical-align: middle;\n",
              "    }\n",
              "\n",
              "    .dataframe tbody tr th {\n",
              "        vertical-align: top;\n",
              "    }\n",
              "\n",
              "    .dataframe thead th {\n",
              "        text-align: right;\n",
              "    }\n",
              "</style>\n",
              "<table border=\"1\" class=\"dataframe\">\n",
              "  <thead>\n",
              "    <tr style=\"text-align: right;\">\n",
              "      <th></th>\n",
              "      <th>Id</th>\n",
              "      <th>ProductId</th>\n",
              "      <th>UserId</th>\n",
              "      <th>ProfileName</th>\n",
              "      <th>HelpfulnessNumerator</th>\n",
              "      <th>HelpfulnessDenominator</th>\n",
              "      <th>Score</th>\n",
              "      <th>Time</th>\n",
              "      <th>Summary</th>\n",
              "      <th>Text</th>\n",
              "    </tr>\n",
              "  </thead>\n",
              "  <tbody>\n",
              "    <tr>\n",
              "      <th>0</th>\n",
              "      <td>1</td>\n",
              "      <td>B001E4KFG0</td>\n",
              "      <td>A3SGXH7AUHU8GW</td>\n",
              "      <td>delmartian</td>\n",
              "      <td>1</td>\n",
              "      <td>1</td>\n",
              "      <td>1</td>\n",
              "      <td>1303862400</td>\n",
              "      <td>Good Quality Dog Food</td>\n",
              "      <td>I have bought several of the Vitality canned d...</td>\n",
              "    </tr>\n",
              "    <tr>\n",
              "      <th>1</th>\n",
              "      <td>2</td>\n",
              "      <td>B00813GRG4</td>\n",
              "      <td>A1D87F6ZCVE5NK</td>\n",
              "      <td>dll pa</td>\n",
              "      <td>0</td>\n",
              "      <td>0</td>\n",
              "      <td>0</td>\n",
              "      <td>1346976000</td>\n",
              "      <td>Not as Advertised</td>\n",
              "      <td>Product arrived labeled as Jumbo Salted Peanut...</td>\n",
              "    </tr>\n",
              "    <tr>\n",
              "      <th>2</th>\n",
              "      <td>3</td>\n",
              "      <td>B000LQOCH0</td>\n",
              "      <td>ABXLMWJIXXAIN</td>\n",
              "      <td>Natalia Corres \"Natalia Corres\"</td>\n",
              "      <td>1</td>\n",
              "      <td>1</td>\n",
              "      <td>1</td>\n",
              "      <td>1219017600</td>\n",
              "      <td>\"Delight\" says it all</td>\n",
              "      <td>This is a confection that has been around a fe...</td>\n",
              "    </tr>\n",
              "    <tr>\n",
              "      <th>3</th>\n",
              "      <td>4</td>\n",
              "      <td>B000UA0QIQ</td>\n",
              "      <td>A395BORC6FGVXV</td>\n",
              "      <td>Karl</td>\n",
              "      <td>3</td>\n",
              "      <td>3</td>\n",
              "      <td>0</td>\n",
              "      <td>1307923200</td>\n",
              "      <td>Cough Medicine</td>\n",
              "      <td>If you are looking for the secret ingredient i...</td>\n",
              "    </tr>\n",
              "    <tr>\n",
              "      <th>4</th>\n",
              "      <td>5</td>\n",
              "      <td>B006K2ZZ7K</td>\n",
              "      <td>A1UQRSCLF8GW1T</td>\n",
              "      <td>Michael D. Bigham \"M. Wassir\"</td>\n",
              "      <td>0</td>\n",
              "      <td>0</td>\n",
              "      <td>1</td>\n",
              "      <td>1350777600</td>\n",
              "      <td>Great taffy</td>\n",
              "      <td>Great taffy at a great price.  There was a wid...</td>\n",
              "    </tr>\n",
              "  </tbody>\n",
              "</table>\n",
              "</div>"
            ],
            "text/plain": [
              "   Id  ...                                               Text\n",
              "0   1  ...  I have bought several of the Vitality canned d...\n",
              "1   2  ...  Product arrived labeled as Jumbo Salted Peanut...\n",
              "2   3  ...  This is a confection that has been around a fe...\n",
              "3   4  ...  If you are looking for the secret ingredient i...\n",
              "4   5  ...  Great taffy at a great price.  There was a wid...\n",
              "\n",
              "[5 rows x 10 columns]"
            ]
          },
          "metadata": {
            "tags": []
          },
          "execution_count": 6
        }
      ]
    },
    {
      "cell_type": "code",
      "metadata": {
        "id": "aouUFwQQ3Uix",
        "colab_type": "code",
        "outputId": "8a059ded-4aee-46dc-f571-734aeb315da0",
        "colab": {
          "base_uri": "https://localhost:8080/",
          "height": 34
        }
      },
      "source": [
        "filtered_data.shape"
      ],
      "execution_count": 7,
      "outputs": [
        {
          "output_type": "execute_result",
          "data": {
            "text/plain": [
              "(5000, 10)"
            ]
          },
          "metadata": {
            "tags": []
          },
          "execution_count": 7
        }
      ]
    },
    {
      "cell_type": "code",
      "metadata": {
        "id": "FoWcbZGD3bcQ",
        "colab_type": "code",
        "colab": {}
      },
      "source": [
        "display=pd.read_sql_query(\"\"\"\n",
        "SELECT ProductID,UserID,ProfileName,Score,Time,Text,COUNT(*) FROM REVIEWS\n",
        "GROUP BY UserID HAVING\n",
        " COUNT(*)>1\"\"\",con)"
      ],
      "execution_count": 0,
      "outputs": []
    },
    {
      "cell_type": "code",
      "metadata": {
        "id": "9xfoG2EwGXeL",
        "colab_type": "code",
        "outputId": "fb7823ae-e99b-43f9-a752-fca822c81184",
        "colab": {
          "base_uri": "https://localhost:8080/",
          "height": 34
        }
      },
      "source": [
        "display.shape"
      ],
      "execution_count": 9,
      "outputs": [
        {
          "output_type": "execute_result",
          "data": {
            "text/plain": [
              "(80668, 7)"
            ]
          },
          "metadata": {
            "tags": []
          },
          "execution_count": 9
        }
      ]
    },
    {
      "cell_type": "code",
      "metadata": {
        "id": "DCMH5VrYGsHR",
        "colab_type": "code",
        "outputId": "286d0464-1d35-4846-f851-0d2ae43d3d1c",
        "colab": {
          "base_uri": "https://localhost:8080/",
          "height": 419
        }
      },
      "source": [
        "display"
      ],
      "execution_count": 10,
      "outputs": [
        {
          "output_type": "execute_result",
          "data": {
            "text/html": [
              "<div>\n",
              "<style scoped>\n",
              "    .dataframe tbody tr th:only-of-type {\n",
              "        vertical-align: middle;\n",
              "    }\n",
              "\n",
              "    .dataframe tbody tr th {\n",
              "        vertical-align: top;\n",
              "    }\n",
              "\n",
              "    .dataframe thead th {\n",
              "        text-align: right;\n",
              "    }\n",
              "</style>\n",
              "<table border=\"1\" class=\"dataframe\">\n",
              "  <thead>\n",
              "    <tr style=\"text-align: right;\">\n",
              "      <th></th>\n",
              "      <th>ProductId</th>\n",
              "      <th>UserId</th>\n",
              "      <th>ProfileName</th>\n",
              "      <th>Score</th>\n",
              "      <th>Time</th>\n",
              "      <th>Text</th>\n",
              "      <th>COUNT(*)</th>\n",
              "    </tr>\n",
              "  </thead>\n",
              "  <tbody>\n",
              "    <tr>\n",
              "      <th>0</th>\n",
              "      <td>B007Y59HVM</td>\n",
              "      <td>#oc-R115TNMSPFT9I7</td>\n",
              "      <td>Breyton</td>\n",
              "      <td>2</td>\n",
              "      <td>1331510400</td>\n",
              "      <td>Overall its just OK when considering the price...</td>\n",
              "      <td>2</td>\n",
              "    </tr>\n",
              "    <tr>\n",
              "      <th>1</th>\n",
              "      <td>B005HG9ET0</td>\n",
              "      <td>#oc-R11D9D7SHXIJB9</td>\n",
              "      <td>Louis E. Emory \"hoppy\"</td>\n",
              "      <td>5</td>\n",
              "      <td>1342396800</td>\n",
              "      <td>My wife has recurring extreme muscle spasms, u...</td>\n",
              "      <td>3</td>\n",
              "    </tr>\n",
              "    <tr>\n",
              "      <th>2</th>\n",
              "      <td>B007Y59HVM</td>\n",
              "      <td>#oc-R11DNU2NBKQ23Z</td>\n",
              "      <td>Kim Cieszykowski</td>\n",
              "      <td>1</td>\n",
              "      <td>1348531200</td>\n",
              "      <td>This coffee is horrible and unfortunately not ...</td>\n",
              "      <td>2</td>\n",
              "    </tr>\n",
              "    <tr>\n",
              "      <th>3</th>\n",
              "      <td>B005HG9ET0</td>\n",
              "      <td>#oc-R11O5J5ZVQE25C</td>\n",
              "      <td>Penguin Chick</td>\n",
              "      <td>5</td>\n",
              "      <td>1346889600</td>\n",
              "      <td>This will be the bottle that you grab from the...</td>\n",
              "      <td>3</td>\n",
              "    </tr>\n",
              "    <tr>\n",
              "      <th>4</th>\n",
              "      <td>B007OSBE1U</td>\n",
              "      <td>#oc-R12KPBODL2B5ZD</td>\n",
              "      <td>Christopher P. Presta</td>\n",
              "      <td>1</td>\n",
              "      <td>1348617600</td>\n",
              "      <td>I didnt like this coffee. Instead of telling y...</td>\n",
              "      <td>2</td>\n",
              "    </tr>\n",
              "    <tr>\n",
              "      <th>...</th>\n",
              "      <td>...</td>\n",
              "      <td>...</td>\n",
              "      <td>...</td>\n",
              "      <td>...</td>\n",
              "      <td>...</td>\n",
              "      <td>...</td>\n",
              "      <td>...</td>\n",
              "    </tr>\n",
              "    <tr>\n",
              "      <th>80663</th>\n",
              "      <td>B0039GMZZK</td>\n",
              "      <td>AZZNK89PXD006</td>\n",
              "      <td>Etude</td>\n",
              "      <td>5</td>\n",
              "      <td>1269648000</td>\n",
              "      <td>Regular Chocolate Pocky is good on its own but...</td>\n",
              "      <td>6</td>\n",
              "    </tr>\n",
              "    <tr>\n",
              "      <th>80664</th>\n",
              "      <td>B003Z4F56C</td>\n",
              "      <td>AZZTH6DJ0KSIP</td>\n",
              "      <td>Crystal Caccamo</td>\n",
              "      <td>5</td>\n",
              "      <td>1337558400</td>\n",
              "      <td>i eat paleo so noodles are not allowed. i trie...</td>\n",
              "      <td>3</td>\n",
              "    </tr>\n",
              "    <tr>\n",
              "      <th>80665</th>\n",
              "      <td>B003FDG4K4</td>\n",
              "      <td>AZZU1VEO8KUXH</td>\n",
              "      <td>Mia P \"Mia P\"</td>\n",
              "      <td>5</td>\n",
              "      <td>1317513600</td>\n",
              "      <td>I bought this for my 13 year old daughter who ...</td>\n",
              "      <td>3</td>\n",
              "    </tr>\n",
              "    <tr>\n",
              "      <th>80666</th>\n",
              "      <td>B0029XEXZE</td>\n",
              "      <td>AZZU4D6TZ2L6J</td>\n",
              "      <td>Sherry King \"llamasmama\"</td>\n",
              "      <td>5</td>\n",
              "      <td>1247875200</td>\n",
              "      <td>My father thought this was the best cheese eve...</td>\n",
              "      <td>2</td>\n",
              "    </tr>\n",
              "    <tr>\n",
              "      <th>80667</th>\n",
              "      <td>B003SNX4YA</td>\n",
              "      <td>AZZV9PDNMCOZW</td>\n",
              "      <td>Anne B. Ward \"Dr Anne B\"</td>\n",
              "      <td>4</td>\n",
              "      <td>1329436800</td>\n",
              "      <td>Even though this mix is not as spicy as I anti...</td>\n",
              "      <td>3</td>\n",
              "    </tr>\n",
              "  </tbody>\n",
              "</table>\n",
              "<p>80668 rows × 7 columns</p>\n",
              "</div>"
            ],
            "text/plain": [
              "        ProductId  ... COUNT(*)\n",
              "0      B007Y59HVM  ...        2\n",
              "1      B005HG9ET0  ...        3\n",
              "2      B007Y59HVM  ...        2\n",
              "3      B005HG9ET0  ...        3\n",
              "4      B007OSBE1U  ...        2\n",
              "...           ...  ...      ...\n",
              "80663  B0039GMZZK  ...        6\n",
              "80664  B003Z4F56C  ...        3\n",
              "80665  B003FDG4K4  ...        3\n",
              "80666  B0029XEXZE  ...        2\n",
              "80667  B003SNX4YA  ...        3\n",
              "\n",
              "[80668 rows x 7 columns]"
            ]
          },
          "metadata": {
            "tags": []
          },
          "execution_count": 10
        }
      ]
    },
    {
      "cell_type": "code",
      "metadata": {
        "id": "RnCGV044G0ph",
        "colab_type": "code",
        "outputId": "8897036f-62c0-46a9-9b27-68af79bb98f4",
        "colab": {
          "base_uri": "https://localhost:8080/",
          "height": 179
        }
      },
      "source": [
        "pd.read_sql_query(\"\"\"SELECT * FROM REVIEWS where UserID='#oc-R115TNMSPFT9I7' \"\"\",con)"
      ],
      "execution_count": 11,
      "outputs": [
        {
          "output_type": "execute_result",
          "data": {
            "text/html": [
              "<div>\n",
              "<style scoped>\n",
              "    .dataframe tbody tr th:only-of-type {\n",
              "        vertical-align: middle;\n",
              "    }\n",
              "\n",
              "    .dataframe tbody tr th {\n",
              "        vertical-align: top;\n",
              "    }\n",
              "\n",
              "    .dataframe thead th {\n",
              "        text-align: right;\n",
              "    }\n",
              "</style>\n",
              "<table border=\"1\" class=\"dataframe\">\n",
              "  <thead>\n",
              "    <tr style=\"text-align: right;\">\n",
              "      <th></th>\n",
              "      <th>Id</th>\n",
              "      <th>ProductId</th>\n",
              "      <th>UserId</th>\n",
              "      <th>ProfileName</th>\n",
              "      <th>HelpfulnessNumerator</th>\n",
              "      <th>HelpfulnessDenominator</th>\n",
              "      <th>Score</th>\n",
              "      <th>Time</th>\n",
              "      <th>Summary</th>\n",
              "      <th>Text</th>\n",
              "    </tr>\n",
              "  </thead>\n",
              "  <tbody>\n",
              "    <tr>\n",
              "      <th>0</th>\n",
              "      <td>83318</td>\n",
              "      <td>B005ZBZLT4</td>\n",
              "      <td>#oc-R115TNMSPFT9I7</td>\n",
              "      <td>Breyton</td>\n",
              "      <td>2</td>\n",
              "      <td>3</td>\n",
              "      <td>2</td>\n",
              "      <td>1331510400</td>\n",
              "      <td>\"Green\" K-cup packaging sacrifices flavor</td>\n",
              "      <td>Overall its just OK when considering the price...</td>\n",
              "    </tr>\n",
              "    <tr>\n",
              "      <th>1</th>\n",
              "      <td>180872</td>\n",
              "      <td>B007Y59HVM</td>\n",
              "      <td>#oc-R115TNMSPFT9I7</td>\n",
              "      <td>Breyton</td>\n",
              "      <td>2</td>\n",
              "      <td>3</td>\n",
              "      <td>2</td>\n",
              "      <td>1331510400</td>\n",
              "      <td>\"Green\" K-cup packaging sacrifices flavor</td>\n",
              "      <td>Overall its just OK when considering the price...</td>\n",
              "    </tr>\n",
              "  </tbody>\n",
              "</table>\n",
              "</div>"
            ],
            "text/plain": [
              "       Id  ...                                               Text\n",
              "0   83318  ...  Overall its just OK when considering the price...\n",
              "1  180872  ...  Overall its just OK when considering the price...\n",
              "\n",
              "[2 rows x 10 columns]"
            ]
          },
          "metadata": {
            "tags": []
          },
          "execution_count": 11
        }
      ]
    },
    {
      "cell_type": "markdown",
      "metadata": {
        "id": "VI9kQ9yXJWLT",
        "colab_type": "text"
      },
      "source": [
        "single user gave same review at the same time to multiple product\n",
        "\n",
        "Its a kind of error so,remove duplicates"
      ]
    },
    {
      "cell_type": "code",
      "metadata": {
        "id": "Rebk_LnjHzdf",
        "colab_type": "code",
        "colab": {}
      },
      "source": [
        "#sort producrt Id in ascending order\n",
        "sorteddata=filtered_data.sort_values('ProductId', axis=0, ascending=True, inplace=False, kind='quicksort', na_position='last')"
      ],
      "execution_count": 0,
      "outputs": []
    },
    {
      "cell_type": "code",
      "metadata": {
        "id": "_QevOoAFMhbJ",
        "colab_type": "code",
        "colab": {}
      },
      "source": [
        "final_data=sorteddata.drop_duplicates(subset={'UserId',\"ProfileName\",\"Time\",\"Text\"},keep='first',inplace=False)"
      ],
      "execution_count": 0,
      "outputs": []
    },
    {
      "cell_type": "code",
      "metadata": {
        "id": "pn1JziojNfnX",
        "colab_type": "code",
        "outputId": "2936721d-c601-4304-aa48-9ef1c995abc3",
        "colab": {
          "base_uri": "https://localhost:8080/",
          "height": 34
        }
      },
      "source": [
        "final_data.shape"
      ],
      "execution_count": 14,
      "outputs": [
        {
          "output_type": "execute_result",
          "data": {
            "text/plain": [
              "(4986, 10)"
            ]
          },
          "metadata": {
            "tags": []
          },
          "execution_count": 14
        }
      ]
    },
    {
      "cell_type": "code",
      "metadata": {
        "id": "VHC_3zp6KJRY",
        "colab_type": "code",
        "outputId": "ed01ca4e-ac41-4e41-bfb9-227e22b023df",
        "colab": {
          "base_uri": "https://localhost:8080/",
          "height": 179
        }
      },
      "source": [
        "pd.read_sql_query(\"\"\"select * from REVIEWS where HelpfulnessNumerator > HelpfulnessDenominator\"\"\",con)"
      ],
      "execution_count": 15,
      "outputs": [
        {
          "output_type": "execute_result",
          "data": {
            "text/html": [
              "<div>\n",
              "<style scoped>\n",
              "    .dataframe tbody tr th:only-of-type {\n",
              "        vertical-align: middle;\n",
              "    }\n",
              "\n",
              "    .dataframe tbody tr th {\n",
              "        vertical-align: top;\n",
              "    }\n",
              "\n",
              "    .dataframe thead th {\n",
              "        text-align: right;\n",
              "    }\n",
              "</style>\n",
              "<table border=\"1\" class=\"dataframe\">\n",
              "  <thead>\n",
              "    <tr style=\"text-align: right;\">\n",
              "      <th></th>\n",
              "      <th>Id</th>\n",
              "      <th>ProductId</th>\n",
              "      <th>UserId</th>\n",
              "      <th>ProfileName</th>\n",
              "      <th>HelpfulnessNumerator</th>\n",
              "      <th>HelpfulnessDenominator</th>\n",
              "      <th>Score</th>\n",
              "      <th>Time</th>\n",
              "      <th>Summary</th>\n",
              "      <th>Text</th>\n",
              "    </tr>\n",
              "  </thead>\n",
              "  <tbody>\n",
              "    <tr>\n",
              "      <th>0</th>\n",
              "      <td>44737</td>\n",
              "      <td>B001EQ55RW</td>\n",
              "      <td>A2V0I904FH7ABY</td>\n",
              "      <td>Ram</td>\n",
              "      <td>3</td>\n",
              "      <td>2</td>\n",
              "      <td>4</td>\n",
              "      <td>1212883200</td>\n",
              "      <td>Pure cocoa taste with crunchy almonds inside</td>\n",
              "      <td>It was almost a 'love at first bite' - the per...</td>\n",
              "    </tr>\n",
              "    <tr>\n",
              "      <th>1</th>\n",
              "      <td>64422</td>\n",
              "      <td>B000MIDROQ</td>\n",
              "      <td>A161DK06JJMCYF</td>\n",
              "      <td>J. E. Stephens \"Jeanne\"</td>\n",
              "      <td>3</td>\n",
              "      <td>1</td>\n",
              "      <td>5</td>\n",
              "      <td>1224892800</td>\n",
              "      <td>Bought This for My Son at College</td>\n",
              "      <td>My son loves spaghetti so I didn't hesitate or...</td>\n",
              "    </tr>\n",
              "  </tbody>\n",
              "</table>\n",
              "</div>"
            ],
            "text/plain": [
              "      Id  ...                                               Text\n",
              "0  44737  ...  It was almost a 'love at first bite' - the per...\n",
              "1  64422  ...  My son loves spaghetti so I didn't hesitate or...\n",
              "\n",
              "[2 rows x 10 columns]"
            ]
          },
          "metadata": {
            "tags": []
          },
          "execution_count": 15
        }
      ]
    },
    {
      "cell_type": "markdown",
      "metadata": {
        "id": "Gvt_cz__MFxJ",
        "colab_type": "text"
      },
      "source": [
        "HelpfullnessNumerator should be less than denominator \n",
        "\n",
        "Numerator is all the people who said \"Yes this is helpfull review\"\n",
        "\n",
        "Denominator is people who said \" YES+NO this is not helpfull\""
      ]
    },
    {
      "cell_type": "code",
      "metadata": {
        "id": "CyPAik_wNzz5",
        "colab_type": "code",
        "colab": {}
      },
      "source": [
        "#Only keep those whose numearator is <denominator\n",
        "final_data=final_data[final_data.HelpfulnessNumerator <= final_data.HelpfulnessDenominator]"
      ],
      "execution_count": 0,
      "outputs": []
    },
    {
      "cell_type": "code",
      "metadata": {
        "id": "jc257Z_7LwXx",
        "colab_type": "code",
        "outputId": "6985a543-936d-4a61-8907-bb1c7434d37a",
        "colab": {
          "base_uri": "https://localhost:8080/",
          "height": 34
        }
      },
      "source": [
        "final_data.shape"
      ],
      "execution_count": 17,
      "outputs": [
        {
          "output_type": "execute_result",
          "data": {
            "text/plain": [
              "(4986, 10)"
            ]
          },
          "metadata": {
            "tags": []
          },
          "execution_count": 17
        }
      ]
    },
    {
      "cell_type": "code",
      "metadata": {
        "id": "ccK0RueZQWWb",
        "colab_type": "code",
        "outputId": "e2e1d40c-dc9c-4cc7-d03e-fa381cefa1b4",
        "colab": {
          "base_uri": "https://localhost:8080/",
          "height": 352
        }
      },
      "source": [
        "import seaborn as sns\n",
        "import matplotlib.pyplot as plt\n",
        "\n",
        "sns.set(style=\"darkgrid\")\n",
        "sns.countplot(x=\"Score\",hue='Score',data=final_data)\n",
        "plt.legend(['negetive','positive'])\n",
        "plt.title('count plot for +ve ad -ve reviews')\n",
        "plt.show()\n",
        "final_data['Score'].value_counts()"
      ],
      "execution_count": 18,
      "outputs": [
        {
          "output_type": "display_data",
          "data": {
            "image/png": "[encoded data removed]",
            "text/plain": [
              "<Figure size 432x288 with 1 Axes>"
            ]
          },
          "metadata": {
            "tags": []
          }
        },
        {
          "output_type": "execute_result",
          "data": {
            "text/plain": [
              "1    4178\n",
              "0     808\n",
              "Name: Score, dtype: int64"
            ]
          },
          "metadata": {
            "tags": []
          },
          "execution_count": 18
        }
      ]
    },
    {
      "cell_type": "code",
      "metadata": {
        "id": "XAN-pw-NQ0ep",
        "colab_type": "code",
        "colab": {}
      },
      "source": [
        "count_vec=CountVectorizer()\n",
        "final_counts=count_vec.fit_transform(final_data['Text'].values)"
      ],
      "execution_count": 0,
      "outputs": []
    },
    {
      "cell_type": "code",
      "metadata": {
        "id": "oKBjKGKwxIC5",
        "colab_type": "code",
        "outputId": "1c6eb07c-2f24-4688-9284-f0819f266a88",
        "colab": {
          "base_uri": "https://localhost:8080/",
          "height": 34
        }
      },
      "source": [
        "type(final_counts)"
      ],
      "execution_count": 20,
      "outputs": [
        {
          "output_type": "execute_result",
          "data": {
            "text/plain": [
              "scipy.sparse.csr.csr_matrix"
            ]
          },
          "metadata": {
            "tags": []
          },
          "execution_count": 20
        }
      ]
    },
    {
      "cell_type": "code",
      "metadata": {
        "id": "oceRC98TxNlf",
        "colab_type": "code",
        "outputId": "aacb97c6-8660-4d2f-e0a5-9177d9d2974a",
        "colab": {
          "base_uri": "https://localhost:8080/",
          "height": 51
        }
      },
      "source": [
        "final_counts.get_shape"
      ],
      "execution_count": 21,
      "outputs": [
        {
          "output_type": "execute_result",
          "data": {
            "text/plain": [
              "<bound method spmatrix.get_shape of <4986x13510 sparse matrix of type '<class 'numpy.int64'>'\n",
              "\twith 253517 stored elements in Compressed Sparse Row format>>"
            ]
          },
          "metadata": {
            "tags": []
          },
          "execution_count": 21
        }
      ]
    },
    {
      "cell_type": "code",
      "metadata": {
        "id": "envzw7e5xVXm",
        "colab_type": "code",
        "outputId": "98950741-49ea-4a56-fd63-ffe9c766eb3f",
        "colab": {
          "base_uri": "https://localhost:8080/",
          "height": 663
        }
      },
      "source": [
        "print(final_counts[0,:])"
      ],
      "execution_count": 22,
      "outputs": [
        {
          "output_type": "stream",
          "text": [
            "  (0, 13215)\t1\n",
            "  (0, 6466)\t2\n",
            "  (0, 12122)\t1\n",
            "  (0, 13169)\t1\n",
            "  (0, 12060)\t2\n",
            "  (0, 10349)\t1\n",
            "  (0, 9316)\t1\n",
            "  (0, 1102)\t1\n",
            "  (0, 4991)\t1\n",
            "  (0, 5845)\t1\n",
            "  (0, 1759)\t3\n",
            "  (0, 6029)\t1\n",
            "  (0, 13381)\t1\n",
            "  (0, 740)\t1\n",
            "  (0, 2691)\t1\n",
            "  (0, 12894)\t2\n",
            "  (0, 4948)\t2\n",
            "  (0, 7253)\t1\n",
            "  (0, 1290)\t1\n",
            "  (0, 9777)\t1\n",
            "  (0, 3951)\t1\n",
            "  (0, 1142)\t1\n",
            "  (0, 7219)\t1\n",
            "  (0, 788)\t1\n",
            "  (0, 7220)\t1\n",
            "  (0, 12374)\t1\n",
            "  (0, 925)\t1\n",
            "  (0, 12675)\t1\n",
            "  (0, 8254)\t1\n",
            "  (0, 3078)\t1\n",
            "  (0, 12304)\t1\n",
            "  (0, 5254)\t1\n",
            "  (0, 9236)\t1\n",
            "  (0, 11435)\t1\n",
            "  (0, 1975)\t1\n",
            "  (0, 8316)\t1\n",
            "  (0, 10116)\t1\n",
            "  (0, 7985)\t1\n"
          ],
          "name": "stdout"
        }
      ]
    },
    {
      "cell_type": "code",
      "metadata": {
        "id": "hxBp4h49yCQ9",
        "colab_type": "code",
        "outputId": "c2dd589f-423b-4e04-daef-2687e4fafac7",
        "colab": {
          "base_uri": "https://localhost:8080/",
          "height": 54
        }
      },
      "source": [
        "review1 = final_data['Text'].values[0]\n",
        "print(review1)"
      ],
      "execution_count": 23,
      "outputs": [
        {
          "output_type": "stream",
          "text": [
            "Why is this $[...] when the same product is available for $[...] here?<br />http://www.amazon.com/VICTOR-FLY-MAGNET-BAIT-REFILL/dp/B00004RBDY<br /><br />The Victor M380 and M502 traps are unreal, of course -- total fly genocide. Pretty stinky, but only right nearby.\n"
          ],
          "name": "stdout"
        }
      ]
    },
    {
      "cell_type": "markdown",
      "metadata": {
        "id": "JD0rbIZAhIhX",
        "colab_type": "text"
      },
      "source": [
        "In the reviews we have extra and unwanted tags like html tags,pulstops ,commas etc so we hav eto remove those kind of tags"
      ]
    },
    {
      "cell_type": "code",
      "metadata": {
        "id": "tZRQ2zBVhEK0",
        "colab_type": "code",
        "outputId": "d3913fe1-6e26-4714-cf66-91eccaa0f540",
        "colab": {
          "base_uri": "https://localhost:8080/",
          "height": 54
        }
      },
      "source": [
        "#removing that html tag\n",
        "review1=re.sub(r\"http:\\S+\",\" \",review1)\n",
        "print(review1)"
      ],
      "execution_count": 24,
      "outputs": [
        {
          "output_type": "stream",
          "text": [
            "Why is this $[...] when the same product is available for $[...] here?<br />  /><br />The Victor M380 and M502 traps are unreal, of course -- total fly genocide. Pretty stinky, but only right nearby.\n"
          ],
          "name": "stdout"
        }
      ]
    },
    {
      "cell_type": "code",
      "metadata": {
        "id": "74Wd1IqLiub7",
        "colab_type": "code",
        "outputId": "ae7e6c83-76d9-4042-a6f1-b2ec8d21a9ca",
        "colab": {
          "base_uri": "https://localhost:8080/",
          "height": 54
        }
      },
      "source": [
        "# we have to remove xml tags\n",
        "from bs4 import BeautifulSoup\n",
        "soup=BeautifulSoup(review1,'lxml')\n",
        "text=soup.get_text()\n",
        "print(text)"
      ],
      "execution_count": 25,
      "outputs": [
        {
          "output_type": "stream",
          "text": [
            "Why is this $[...] when the same product is available for $[...] here?  />The Victor M380 and M502 traps are unreal, of course -- total fly genocide. Pretty stinky, but only right nearby.\n"
          ],
          "name": "stdout"
        }
      ]
    },
    {
      "cell_type": "code",
      "metadata": {
        "id": "WC3I-o76m99-",
        "colab_type": "code",
        "colab": {}
      },
      "source": [
        "#we have to redeclare the phraces which is pronounceed like i'll=i will\n",
        "\n",
        "def decontracted(phrase):\n",
        "  #specific\n",
        "  phrase = re.sub(r\"won't\",\"will not\",phrase )\n",
        "  phrase =re.sub(r\"can't\",\"can not\",phrase)\n",
        "\n",
        "  #general\n",
        "  phrase = re.sub(r\"n\\'t\",\"not\",phrase)\n",
        "  phrase = re.sub(r\"\\'re\", \" are\", phrase)\n",
        "  phrase = re.sub(r\"\\'s\", \" is\", phrase)\n",
        "  phrase = re.sub(r\"\\'d\", \" would\", phrase)\n",
        "  phrase = re.sub(r\"\\'ll\", \" will\", phrase)\n",
        "  phrase = re.sub(r\"\\'t\", \" not\", phrase)\n",
        "  phrase = re.sub(r\"\\'ve\", \" have\", phrase)\n",
        "  phrase = re.sub(r\"\\'m\", \" am\", phrase)\n",
        "  return phrase"
      ],
      "execution_count": 0,
      "outputs": []
    },
    {
      "cell_type": "code",
      "metadata": {
        "id": "hvQZPV1BpSYG",
        "colab_type": "code",
        "outputId": "1ed0c89e-e2da-49ff-ab01-a05acf22513e",
        "colab": {
          "base_uri": "https://localhost:8080/",
          "height": 88
        }
      },
      "source": [
        "review1500=final_data['Text'].values[1500]\n",
        "print(review1500)\n",
        "print('='*50)\n",
        "review1500=decontracted(review1500)\n",
        "print(review1500)"
      ],
      "execution_count": 27,
      "outputs": [
        {
          "output_type": "stream",
          "text": [
            "Wow.  So far, two two-star reviews.  One obviously had no idea what they were ordering; the other wants crispy cookies.  Hey, I'm sorry; but these reviews do nobody any good beyond reminding us to look  before ordering.<br /><br />These are chocolate-oatmeal cookies.  If you don't like that combination, don't order this type of cookie.  I find the combo quite nice, really.  The oatmeal sort of \"calms\" the rich chocolate flavor and gives the cookie sort of a coconut-type consistency.  Now let's also remember that tastes differ; so, I've given my opinion.<br /><br />Then, these are soft, chewy cookies -- as advertised.  They are not \"crispy\" cookies, or the blurb would say \"crispy,\" rather than \"chewy.\"  I happen to like raw cookie dough; however, I don't see where these taste like raw cookie dough.  Both are soft, however, so is this the confusion?  And, yes, they stick together.  Soft cookies tend to do that.  They aren't individually wrapped, which would add to the cost.  Oh yeah, chocolate chip cookies tend to be somewhat sweet.<br /><br />So, if you want something hard and crisp, I suggest Nabiso's Ginger Snaps.  If you want a cookie that's soft, chewy and tastes like a combination of chocolate and oatmeal, give these a try.  I'm here to place my second order.\n",
            "==================================================\n",
            "Wow.  So far, two two-star reviews.  One obviously had no idea what they were ordering; the other wants crispy cookies.  Hey, I am sorry; but these reviews do nobody any good beyond reminding us to look  before ordering.<br /><br />These are chocolate-oatmeal cookies.  If you donot like that combination, donot order this type of cookie.  I find the combo quite nice, really.  The oatmeal sort of \"calms\" the rich chocolate flavor and gives the cookie sort of a coconut-type consistency.  Now let is also remember that tastes differ; so, I have given my opinion.<br /><br />Then, these are soft, chewy cookies -- as advertised.  They are not \"crispy\" cookies, or the blurb would say \"crispy,\" rather than \"chewy.\"  I happen to like raw cookie dough; however, I donot see where these taste like raw cookie dough.  Both are soft, however, so is this the confusion?  And, yes, they stick together.  Soft cookies tend to do that.  They arenot individually wrapped, which would add to the cost.  Oh yeah, chocolate chip cookies tend to be somewhat sweet.<br /><br />So, if you want something hard and crisp, I suggest Nabiso is Ginger Snaps.  If you want a cookie that is soft, chewy and tastes like a combination of chocolate and oatmeal, give these a try.  I am here to place my second order.\n"
          ],
          "name": "stdout"
        }
      ]
    },
    {
      "cell_type": "code",
      "metadata": {
        "id": "cU-C1zcApc6W",
        "colab_type": "code",
        "outputId": "0df8e5f4-70fc-4d4b-dc45-63fa433e7a04",
        "colab": {
          "base_uri": "https://localhost:8080/",
          "height": 139
        }
      },
      "source": [
        "\n",
        "review150=final_data['Text'].values[150]\n",
        "print(review1500)\n",
        "print('='*50)\n",
        "\n",
        "review4900=final_data['Text'].values[4900]\n",
        "print(review1500)\n",
        "print('='*50)\n",
        "\n",
        "review1000=final_data['Text'].values[1000]\n",
        "print(review1500)\n",
        "print('='*50)\n"
      ],
      "execution_count": 28,
      "outputs": [
        {
          "output_type": "stream",
          "text": [
            "Wow.  So far, two two-star reviews.  One obviously had no idea what they were ordering; the other wants crispy cookies.  Hey, I am sorry; but these reviews do nobody any good beyond reminding us to look  before ordering.<br /><br />These are chocolate-oatmeal cookies.  If you donot like that combination, donot order this type of cookie.  I find the combo quite nice, really.  The oatmeal sort of \"calms\" the rich chocolate flavor and gives the cookie sort of a coconut-type consistency.  Now let is also remember that tastes differ; so, I have given my opinion.<br /><br />Then, these are soft, chewy cookies -- as advertised.  They are not \"crispy\" cookies, or the blurb would say \"crispy,\" rather than \"chewy.\"  I happen to like raw cookie dough; however, I donot see where these taste like raw cookie dough.  Both are soft, however, so is this the confusion?  And, yes, they stick together.  Soft cookies tend to do that.  They arenot individually wrapped, which would add to the cost.  Oh yeah, chocolate chip cookies tend to be somewhat sweet.<br /><br />So, if you want something hard and crisp, I suggest Nabiso is Ginger Snaps.  If you want a cookie that is soft, chewy and tastes like a combination of chocolate and oatmeal, give these a try.  I am here to place my second order.\n",
            "==================================================\n",
            "Wow.  So far, two two-star reviews.  One obviously had no idea what they were ordering; the other wants crispy cookies.  Hey, I am sorry; but these reviews do nobody any good beyond reminding us to look  before ordering.<br /><br />These are chocolate-oatmeal cookies.  If you donot like that combination, donot order this type of cookie.  I find the combo quite nice, really.  The oatmeal sort of \"calms\" the rich chocolate flavor and gives the cookie sort of a coconut-type consistency.  Now let is also remember that tastes differ; so, I have given my opinion.<br /><br />Then, these are soft, chewy cookies -- as advertised.  They are not \"crispy\" cookies, or the blurb would say \"crispy,\" rather than \"chewy.\"  I happen to like raw cookie dough; however, I donot see where these taste like raw cookie dough.  Both are soft, however, so is this the confusion?  And, yes, they stick together.  Soft cookies tend to do that.  They arenot individually wrapped, which would add to the cost.  Oh yeah, chocolate chip cookies tend to be somewhat sweet.<br /><br />So, if you want something hard and crisp, I suggest Nabiso is Ginger Snaps.  If you want a cookie that is soft, chewy and tastes like a combination of chocolate and oatmeal, give these a try.  I am here to place my second order.\n",
            "==================================================\n",
            "Wow.  So far, two two-star reviews.  One obviously had no idea what they were ordering; the other wants crispy cookies.  Hey, I am sorry; but these reviews do nobody any good beyond reminding us to look  before ordering.<br /><br />These are chocolate-oatmeal cookies.  If you donot like that combination, donot order this type of cookie.  I find the combo quite nice, really.  The oatmeal sort of \"calms\" the rich chocolate flavor and gives the cookie sort of a coconut-type consistency.  Now let is also remember that tastes differ; so, I have given my opinion.<br /><br />Then, these are soft, chewy cookies -- as advertised.  They are not \"crispy\" cookies, or the blurb would say \"crispy,\" rather than \"chewy.\"  I happen to like raw cookie dough; however, I donot see where these taste like raw cookie dough.  Both are soft, however, so is this the confusion?  And, yes, they stick together.  Soft cookies tend to do that.  They arenot individually wrapped, which would add to the cost.  Oh yeah, chocolate chip cookies tend to be somewhat sweet.<br /><br />So, if you want something hard and crisp, I suggest Nabiso is Ginger Snaps.  If you want a cookie that is soft, chewy and tastes like a combination of chocolate and oatmeal, give these a try.  I am here to place my second order.\n",
            "==================================================\n"
          ],
          "name": "stdout"
        }
      ]
    },
    {
      "cell_type": "code",
      "metadata": {
        "id": "7kVgE8saq9ii",
        "colab_type": "code",
        "outputId": "0c53f9b4-f8fa-4e03-de84-f187a6525f86",
        "colab": {
          "base_uri": "https://localhost:8080/",
          "height": 54
        }
      },
      "source": [
        "#remove words with numbers\n",
        "\n",
        "review1=re.sub(r\"\\S*\\d\\S*\",\"\",review1)\n",
        "print(review1)"
      ],
      "execution_count": 29,
      "outputs": [
        {
          "output_type": "stream",
          "text": [
            "Why is this $[...] when the same product is available for $[...] here?<br />  /><br />The Victor  and  traps are unreal, of course -- total fly genocide. Pretty stinky, but only right nearby.\n"
          ],
          "name": "stdout"
        }
      ]
    },
    {
      "cell_type": "code",
      "metadata": {
        "id": "RPbIPqDWr_eW",
        "colab_type": "code",
        "outputId": "d913bed2-3e54-4c20-cb02-23650f791f9b",
        "colab": {
          "base_uri": "https://localhost:8080/",
          "height": 54
        }
      },
      "source": [
        "# remove special characters\n",
        "review1500=re.sub(r\"[^A-Za-z0-9]+\",' ',review1500)\n",
        "print(review1500)"
      ],
      "execution_count": 30,
      "outputs": [
        {
          "output_type": "stream",
          "text": [
            "Wow So far two two star reviews One obviously had no idea what they were ordering the other wants crispy cookies Hey I am sorry but these reviews do nobody any good beyond reminding us to look before ordering br br These are chocolate oatmeal cookies If you donot like that combination donot order this type of cookie I find the combo quite nice really The oatmeal sort of calms the rich chocolate flavor and gives the cookie sort of a coconut type consistency Now let is also remember that tastes differ so I have given my opinion br br Then these are soft chewy cookies as advertised They are not crispy cookies or the blurb would say crispy rather than chewy I happen to like raw cookie dough however I donot see where these taste like raw cookie dough Both are soft however so is this the confusion And yes they stick together Soft cookies tend to do that They arenot individually wrapped which would add to the cost Oh yeah chocolate chip cookies tend to be somewhat sweet br br So if you want something hard and crisp I suggest Nabiso is Ginger Snaps If you want a cookie that is soft chewy and tastes like a combination of chocolate and oatmeal give these a try I am here to place my second order \n"
          ],
          "name": "stdout"
        }
      ]
    },
    {
      "cell_type": "code",
      "metadata": {
        "id": "-NmUVsofsfon",
        "colab_type": "code",
        "colab": {}
      },
      "source": [
        "stopwords= set(['br', 'the', 'i', 'me', 'my', 'myself', 'we', 'our', 'ours', 'ourselves', 'you', \"you're\", \"you've\",\\\n",
        "            \"you'll\", \"you'd\", 'your', 'yours', 'yourself', 'yourselves', 'he', 'him', 'his', 'himself', \\\n",
        "            'she', \"she's\", 'her', 'hers', 'herself', 'it', \"it's\", 'its', 'itself', 'they', 'them', 'their',\\\n",
        "            'theirs', 'themselves', 'what', 'which', 'who', 'whom', 'this', 'that', \"that'll\", 'these', 'those', \\\n",
        "            'am', 'is', 'are', 'was', 'were', 'be', 'been', 'being', 'have', 'has', 'had', 'having', 'do', 'does', \\\n",
        "            'did', 'doing', 'a', 'an', 'the', 'and', 'but', 'if', 'or', 'because', 'as', 'until', 'while', 'of', \\\n",
        "            'at', 'by', 'for', 'with', 'about', 'against', 'between', 'into', 'through', 'during', 'before', 'after',\\\n",
        "            'above', 'below', 'to', 'from', 'up', 'down', 'in', 'out', 'on', 'off', 'over', 'under', 'again', 'further',\\\n",
        "            'then', 'once', 'here', 'there', 'when', 'where', 'why', 'how', 'all', 'any', 'both', 'each', 'few', 'more',\\\n",
        "            'most', 'other', 'some', 'such', 'only', 'own', 'same', 'so', 'than', 'too', 'very', \\\n",
        "            's', 't', 'can', 'will', 'just', 'don', \"don't\", 'should', \"should've\", 'now', 'd', 'll', 'm', 'o', 're', \\\n",
        "            've', 'y', 'ain', 'aren', \"aren't\", 'couldn', \"couldn't\", 'didn', \"didn't\", 'doesn', \"doesn't\", 'hadn',\\\n",
        "            \"hadn't\", 'hasn', \"hasn't\", 'haven', \"haven't\", 'isn', \"isn't\", 'ma', 'mightn', \"mightn't\", 'mustn',\\\n",
        "            \"mustn't\", 'needn', \"needn't\", 'shan', \"shan't\", 'shouldn', \"shouldn't\", 'wasn', \"wasn't\", 'weren', \"weren't\", \\\n",
        "            'won', \"won't\", 'wouldn', \"wouldn't\"])"
      ],
      "execution_count": 0,
      "outputs": []
    },
    {
      "cell_type": "code",
      "metadata": {
        "id": "Ee4E6Pvbspaj",
        "colab_type": "code",
        "outputId": "7b6740b8-b72f-4f87-d3dd-5a1d148cda06",
        "colab": {
          "base_uri": "https://localhost:8080/",
          "height": 34
        }
      },
      "source": [
        "#preforming all the above operations to the whole data\n",
        "# Combining all the above stundents \n",
        "from tqdm import tqdm\n",
        "preprocessed_reviews = []\n",
        "# tqdm is for printing the status bar\n",
        "for sentance in tqdm(final_data['Text'].values):\n",
        "    sentance = re.sub(r\"http\\S+\", \"\", sentance)\n",
        "    sentance = BeautifulSoup(sentance, 'lxml').get_text()\n",
        "    sentance = decontracted(sentance)\n",
        "    sentance = re.sub(\"\\S*\\d\\S*\", \"\", sentance).strip()\n",
        "    sentance = re.sub('[^A-Za-z]+', ' ', sentance)\n",
        "    # https://gist.github.com/sebleier/554280\n",
        "    sentance = ' '.join(e.lower() for e in sentance.split() if e.lower() not in stopwords)\n",
        "    preprocessed_reviews.append(sentance.strip())\n"
      ],
      "execution_count": 32,
      "outputs": [
        {
          "output_type": "stream",
          "text": [
            "100%|██████████| 4986/4986 [00:02<00:00, 2397.48it/s]\n"
          ],
          "name": "stderr"
        }
      ]
    },
    {
      "cell_type": "code",
      "metadata": {
        "id": "mJ__RK0yvBzc",
        "colab_type": "code",
        "outputId": "36996be2-f7da-4188-98f3-72ad5a5fc378",
        "colab": {
          "base_uri": "https://localhost:8080/",
          "height": 54
        }
      },
      "source": [
        "preprocessed_reviews[500]"
      ],
      "execution_count": 33,
      "outputs": [
        {
          "output_type": "execute_result",
          "data": {
            "text/plain": [
              "'good snack feel great offering month old easily pick small pieces definitely enjoys apple cinnamon taste year old loves well would definitely recommend anyone small larger kids'"
            ]
          },
          "metadata": {
            "tags": []
          },
          "execution_count": 33
        }
      ]
    },
    {
      "cell_type": "code",
      "metadata": {
        "id": "S0ppkbYNvwQr",
        "colab_type": "code",
        "outputId": "8b0ff87a-94ce-4d9b-f319-56a24eb36de4",
        "colab": {
          "base_uri": "https://localhost:8080/",
          "height": 51
        }
      },
      "source": [
        "count_vec=CountVectorizer()\n",
        "count_vec.fit(preprocessed_reviews)\n",
        "print('some feature names ',count_vec.get_feature_names()[:10])\n",
        "print('='*50)"
      ],
      "execution_count": 34,
      "outputs": [
        {
          "output_type": "stream",
          "text": [
            "some feature names  ['aa', 'aahhhs', 'aback', 'abandon', 'abates', 'abbott', 'abby', 'abdominal', 'abiding', 'ability']\n",
            "==================================================\n"
          ],
          "name": "stdout"
        }
      ]
    },
    {
      "cell_type": "code",
      "metadata": {
        "id": "eGD5S2Izw-iJ",
        "colab_type": "code",
        "outputId": "c7d51e85-6204-4f86-ddf3-b63405056fd0",
        "colab": {
          "base_uri": "https://localhost:8080/",
          "height": 54
        }
      },
      "source": [
        "preprocessed_reviews[9]"
      ],
      "execution_count": 35,
      "outputs": [
        {
          "output_type": "execute_result",
          "data": {
            "text/plain": [
              "'description product disceptive product represented powder not powder granule nothing shredded coconut doesnot even dissolve high speed commercial blender unless using product manufacture dark chocolate coated coconut patty useless intention use additive healthy shake ended ruining shake resort chewing undissolved tasteless coconut pieces rather drinking shake additionally way product packaged no protective cardboard preventing slashing top package box opened could rated product zero stars would redeeming quality rather inexpensive gave one package away free patient loves coconut gave back two days later complaining terrible'"
            ]
          },
          "metadata": {
            "tags": []
          },
          "execution_count": 35
        }
      ]
    },
    {
      "cell_type": "code",
      "metadata": {
        "id": "PNnmZWGg1fId",
        "colab_type": "code",
        "outputId": "2ab00029-3619-4a48-ed37-a84e10ab6c87",
        "colab": {
          "base_uri": "https://localhost:8080/",
          "height": 34
        }
      },
      "source": [
        "import string\n",
        "\n",
        "from nltk.stem import PorterStemmer\n",
        "from nltk.stem.wordnet import  WordNetLemmatizer\n",
        "\n",
        "sno=nltk.SnowballStemmer('english')\n",
        "\n",
        "print(sno.stem('tasty'))"
      ],
      "execution_count": 36,
      "outputs": [
        {
          "output_type": "stream",
          "text": [
            "tasti\n"
          ],
          "name": "stdout"
        }
      ]
    },
    {
      "cell_type": "code",
      "metadata": {
        "id": "nECuq7py4Xgl",
        "colab_type": "code",
        "outputId": "842ec0e8-2172-448b-f2c7-8e0d98efffa6",
        "colab": {
          "base_uri": "https://localhost:8080/",
          "height": 34
        }
      },
      "source": [
        "print (sno.stem('tasts'))"
      ],
      "execution_count": 37,
      "outputs": [
        {
          "output_type": "stream",
          "text": [
            "tast\n"
          ],
          "name": "stdout"
        }
      ]
    },
    {
      "cell_type": "code",
      "metadata": {
        "id": "4ClHenSpMgi0",
        "colab_type": "code",
        "outputId": "df5974ae-706d-4496-d23f-148bbe3db990",
        "colab": {
          "base_uri": "https://localhost:8080/",
          "height": 105
        }
      },
      "source": [
        "import nltk\n",
        "nltk.download('stopwords')\n",
        "\n",
        "import re\n",
        "import string\n",
        "from nltk.corpus import stopwords\n",
        "from nltk.stem import PorterStemmer\n",
        "from nltk.stem.wordnet import WordNetLemmatizer\n",
        "\n",
        "stop=set(stopwords.words('english'))\n",
        "sno=nltk.stem.SnowballStemmer('english')\n",
        "\n",
        "def cleanhtml(sentence):\n",
        "  cleanr=re.compile('<.*?>')\n",
        "  cleantext=re.sub(cleanr,' ',sentence)\n",
        "  return cleantext\n",
        "\n",
        "def cleanpun(sentence):\n",
        "  celaned = re.sub(r'[?|!|\\'|*|#]',r'',sentence)\n",
        "  cleaned= re.sub(r'[.|,|)|(|\\|/]',r'',sentence)\n",
        "  return cleaned\n",
        "\n",
        "print(stop)\n",
        "print('*'*50)\n"
      ],
      "execution_count": 38,
      "outputs": [
        {
          "output_type": "stream",
          "text": [
            "[nltk_data] Downloading package stopwords to /root/nltk_data...\n",
            "[nltk_data]   Unzipping corpora/stopwords.zip.\n",
            "{'hasn', 'these', 'hers', 'and', 'it', 'this', 'who', \"you've\", 'your', 'being', 'through', \"that'll\", \"aren't\", 'because', 'needn', \"mightn't\", \"mustn't\", 'off', 'didn', 'what', 'most', 'were', 'have', 's', 'wouldn', 'once', \"weren't\", 'into', 'yourselves', 'be', \"hadn't\", 'the', 'where', 've', 'down', 'she', 'isn', 'just', 'from', 'we', 'against', 'do', 'how', 'mightn', 'ours', 'whom', 'doesn', \"doesn't\", 'ain', 'are', \"you'll\", \"you're\", 'up', 'will', \"wasn't\", 'until', 'a', \"needn't\", 't', 'you', 'then', \"she's\", 'himself', \"couldn't\", \"should've\", 'had', 'in', 'my', \"didn't\", 'if', 'why', 'not', 'wasn', 'was', 'is', 'weren', 'over', \"won't\", 'other', 'same', 'its', 'their', 'but', 'below', 'd', 'should', 'or', \"it's\", 'both', 'can', 'his', \"haven't\", 'nor', 'll', 'theirs', 'those', 'i', 'an', 'won', 'shouldn', 'at', 'been', 'has', 'ma', 'yours', 'as', 'her', 'don', 'hadn', 'each', 'after', 'such', 'very', 'on', 'under', 'themselves', 'some', \"you'd\", 'herself', 'further', 'above', 'haven', 'm', 'than', 'few', 'between', 'itself', 'him', 'to', 'which', 'doing', 'by', 'with', 'shan', 'our', 'while', 'so', 'too', 'no', 'again', \"isn't\", 'of', 'aren', 'he', 'they', 'about', 'for', 'ourselves', \"shouldn't\", \"wouldn't\", 'them', 'does', 'any', 'now', 'couldn', 'out', \"shan't\", 'having', 'mustn', 'that', 'during', 'before', 'here', 'when', 'own', 'yourself', 'o', 'y', 'am', 'myself', \"don't\", 're', 'me', 'more', 'only', 'all', 'did', \"hasn't\", 'there'}\n",
            "**************************************************\n"
          ],
          "name": "stdout"
        }
      ]
    },
    {
      "cell_type": "code",
      "metadata": {
        "id": "N-90bJGHPrWN",
        "colab_type": "code",
        "colab": {}
      },
      "source": [
        "i=0\n",
        "str1=''\n",
        "final_string=[]\n",
        "all_positive=[]\n",
        "all_negetive=[]\n",
        "s=''\n",
        "\n",
        "for sent in final_data['Text'].values:\n",
        "  filtered_sentence=[]\n",
        "  sent=cleanhtml(sent)\n",
        "  for w in sent.split():\n",
        "    for cleaned_words in cleanpun(w).split():\n",
        "      if ((cleaned_words.isalpha()) & (len(cleaned_words)>2)):\n",
        "        if (cleaned_words.lower() not in stop):\n",
        "          s=(sno.stem(cleaned_words.lower())).encode('utf8')\n",
        "          filtered_sentence.append(s)\n",
        "          if(final_data['Score'].values)[i] == 1:\n",
        "            all_positive.append(s)\n",
        "          if(final_data['Score'].values)[i] == 0:\n",
        "            all_negetive.append(s)\n",
        "      \n",
        "      else:\n",
        "        continue\n",
        "    else:\n",
        "      continue\n",
        "\n",
        "  str1= b\" \".join(filtered_sentence)\n",
        "\n",
        "  final_string.append(str1)\n",
        "  i+=1\n",
        "    "
      ],
      "execution_count": 0,
      "outputs": []
    },
    {
      "cell_type": "code",
      "metadata": {
        "id": "Hi1WZFnFToQA",
        "colab_type": "code",
        "colab": {}
      },
      "source": [
        "#adding new column\n",
        "\n",
        "final_data['CleanedText']=final_string"
      ],
      "execution_count": 0,
      "outputs": []
    },
    {
      "cell_type": "code",
      "metadata": {
        "id": "Mf9p1n54Up0e",
        "colab_type": "code",
        "outputId": "b4313f2e-6148-4481-d310-e4b85141a887",
        "colab": {
          "base_uri": "https://localhost:8080/",
          "height": 459
        }
      },
      "source": [
        "final_data.head()"
      ],
      "execution_count": 41,
      "outputs": [
        {
          "output_type": "execute_result",
          "data": {
            "text/html": [
              "<div>\n",
              "<style scoped>\n",
              "    .dataframe tbody tr th:only-of-type {\n",
              "        vertical-align: middle;\n",
              "    }\n",
              "\n",
              "    .dataframe tbody tr th {\n",
              "        vertical-align: top;\n",
              "    }\n",
              "\n",
              "    .dataframe thead th {\n",
              "        text-align: right;\n",
              "    }\n",
              "</style>\n",
              "<table border=\"1\" class=\"dataframe\">\n",
              "  <thead>\n",
              "    <tr style=\"text-align: right;\">\n",
              "      <th></th>\n",
              "      <th>Id</th>\n",
              "      <th>ProductId</th>\n",
              "      <th>UserId</th>\n",
              "      <th>ProfileName</th>\n",
              "      <th>HelpfulnessNumerator</th>\n",
              "      <th>HelpfulnessDenominator</th>\n",
              "      <th>Score</th>\n",
              "      <th>Time</th>\n",
              "      <th>Summary</th>\n",
              "      <th>Text</th>\n",
              "      <th>CleanedText</th>\n",
              "    </tr>\n",
              "  </thead>\n",
              "  <tbody>\n",
              "    <tr>\n",
              "      <th>2546</th>\n",
              "      <td>2774</td>\n",
              "      <td>B00002NCJC</td>\n",
              "      <td>A196AJHU9EASJN</td>\n",
              "      <td>Alex Chaffee</td>\n",
              "      <td>0</td>\n",
              "      <td>0</td>\n",
              "      <td>1</td>\n",
              "      <td>1282953600</td>\n",
              "      <td>thirty bucks?</td>\n",
              "      <td>Why is this $[...] when the same product is av...</td>\n",
              "      <td>b'product avail victor trap unreal cours total...</td>\n",
              "    </tr>\n",
              "    <tr>\n",
              "      <th>2547</th>\n",
              "      <td>2775</td>\n",
              "      <td>B00002NCJC</td>\n",
              "      <td>A13RRPGE79XFFH</td>\n",
              "      <td>reader48</td>\n",
              "      <td>0</td>\n",
              "      <td>0</td>\n",
              "      <td>1</td>\n",
              "      <td>1281052800</td>\n",
              "      <td>Flies Begone</td>\n",
              "      <td>We have used the Victor fly bait for 3 seasons...</td>\n",
              "      <td>b'use victor fli bait season beat great'</td>\n",
              "    </tr>\n",
              "    <tr>\n",
              "      <th>1145</th>\n",
              "      <td>1244</td>\n",
              "      <td>B00002Z754</td>\n",
              "      <td>A3B8RCEI0FXFI6</td>\n",
              "      <td>B G Chase</td>\n",
              "      <td>10</td>\n",
              "      <td>10</td>\n",
              "      <td>1</td>\n",
              "      <td>962236800</td>\n",
              "      <td>WOW Make your own 'slickers' !</td>\n",
              "      <td>I just received my shipment and could hardly w...</td>\n",
              "      <td>b'receiv shipment could hard wait tri product ...</td>\n",
              "    </tr>\n",
              "    <tr>\n",
              "      <th>1146</th>\n",
              "      <td>1245</td>\n",
              "      <td>B00002Z754</td>\n",
              "      <td>A29Z5PI9BW2PU3</td>\n",
              "      <td>Robbie</td>\n",
              "      <td>7</td>\n",
              "      <td>7</td>\n",
              "      <td>1</td>\n",
              "      <td>961718400</td>\n",
              "      <td>Great Product</td>\n",
              "      <td>This was a really good idea and the final prod...</td>\n",
              "      <td>b'realli good idea final product outstand use ...</td>\n",
              "    </tr>\n",
              "    <tr>\n",
              "      <th>2942</th>\n",
              "      <td>3204</td>\n",
              "      <td>B000084DVR</td>\n",
              "      <td>A1UGDJP1ZJWVPF</td>\n",
              "      <td>T. Moore \"thoughtful reader\"</td>\n",
              "      <td>1</td>\n",
              "      <td>1</td>\n",
              "      <td>1</td>\n",
              "      <td>1177977600</td>\n",
              "      <td>Good stuff!</td>\n",
              "      <td>I'm glad my 45lb cocker/standard poodle puppy ...</td>\n",
              "      <td>b'glad cockerstandard poodl puppi love stuff t...</td>\n",
              "    </tr>\n",
              "  </tbody>\n",
              "</table>\n",
              "</div>"
            ],
            "text/plain": [
              "        Id  ...                                        CleanedText\n",
              "2546  2774  ...  b'product avail victor trap unreal cours total...\n",
              "2547  2775  ...           b'use victor fli bait season beat great'\n",
              "1145  1244  ...  b'receiv shipment could hard wait tri product ...\n",
              "1146  1245  ...  b'realli good idea final product outstand use ...\n",
              "2942  3204  ...  b'glad cockerstandard poodl puppi love stuff t...\n",
              "\n",
              "[5 rows x 11 columns]"
            ]
          },
          "metadata": {
            "tags": []
          },
          "execution_count": 41
        }
      ]
    },
    {
      "cell_type": "code",
      "metadata": {
        "id": "2N0I4kc5VU8X",
        "colab_type": "code",
        "colab": {}
      },
      "source": [
        "#storing  final proprocessed data into sql\n",
        "\n",
        "conn=sqlite3.connect('final.sqlite')\n",
        "c=conn.cursor()\n",
        "conn.text_factory = str\n",
        "final_data.to_sql('Reviews',conn,schema=None,if_exists='replace')"
      ],
      "execution_count": 0,
      "outputs": []
    },
    {
      "cell_type": "code",
      "metadata": {
        "id": "TaEAO9AIWmuQ",
        "colab_type": "code",
        "outputId": "363d6ea9-47a9-4cb2-bdac-f0ce204bf2a9",
        "colab": {
          "base_uri": "https://localhost:8080/",
          "height": 71
        }
      },
      "source": [
        "freq_dist_positive = nltk.FreqDist(all_positive)\n",
        "freq_dist_negetive= nltk.FreqDist(all_negetive)\n",
        "\n",
        "print(\"Most common positive Words\",freq_dist_positive.most_common(20))\n",
        "print(\"Most common negetive Words\",freq_dist_negetive.most_common(20))"
      ],
      "execution_count": 43,
      "outputs": [
        {
          "output_type": "stream",
          "text": [
            "Most common positive Words [(b'like', 1804), (b'tast', 1609), (b'flavor', 1497), (b'good', 1496), (b'love', 1450), (b'great', 1366), (b'use', 1265), (b'one', 1173), (b'product', 1145), (b'tri', 1145), (b'coffe', 990), (b'make', 978), (b'food', 977), (b'chip', 955), (b'get', 826), (b'tea', 776), (b'bag', 736), (b'buy', 716), (b'eat', 698), (b'would', 695)]\n",
            "Most common negetive Words [(b'like', 441), (b'tast', 421), (b'product', 387), (b'tri', 282), (b'one', 277), (b'flavor', 255), (b'would', 246), (b'food', 231), (b'use', 224), (b'good', 197), (b'buy', 185), (b'order', 182), (b'get', 178), (b'chip', 178), (b'tea', 177), (b'bag', 175), (b'even', 168), (b'make', 161), (b'box', 154), (b'eat', 152)]\n"
          ],
          "name": "stdout"
        }
      ]
    },
    {
      "cell_type": "code",
      "metadata": {
        "id": "vUKT5JZgXlvb",
        "colab_type": "code",
        "colab": {}
      },
      "source": [
        "count_vec=CountVectorizer(ngram_range=(1,2))\n",
        "final_bigarm_counts = count_vec.fit_transform(final_data['Text'].values)"
      ],
      "execution_count": 0,
      "outputs": []
    },
    {
      "cell_type": "code",
      "metadata": {
        "id": "03iF8qnkbKrg",
        "colab_type": "code",
        "outputId": "561ea0ef-e9bd-4d7b-c0e4-87b7183c9bdb",
        "colab": {
          "base_uri": "https://localhost:8080/",
          "height": 34
        }
      },
      "source": [
        "final_bigarm_counts.get_shape()"
      ],
      "execution_count": 45,
      "outputs": [
        {
          "output_type": "execute_result",
          "data": {
            "text/plain": [
              "(4986, 148211)"
            ]
          },
          "metadata": {
            "tags": []
          },
          "execution_count": 45
        }
      ]
    },
    {
      "cell_type": "code",
      "metadata": {
        "id": "Fj5jp-Y-bXys",
        "colab_type": "code",
        "outputId": "13c7f7c0-20ba-40ca-d9b8-57d95ce3f85b",
        "colab": {
          "base_uri": "https://localhost:8080/",
          "height": 34
        }
      },
      "source": [
        "#Before Bigram\n",
        "final_counts.shape"
      ],
      "execution_count": 46,
      "outputs": [
        {
          "output_type": "execute_result",
          "data": {
            "text/plain": [
              "(4986, 13510)"
            ]
          },
          "metadata": {
            "tags": []
          },
          "execution_count": 46
        }
      ]
    },
    {
      "cell_type": "code",
      "metadata": {
        "id": "GO_s2NpHbjOV",
        "colab_type": "code",
        "colab": {}
      },
      "source": [
        "#tfidf\n",
        "from sklearn.feature_extraction.text import TfidfVectorizer\n",
        "tf_idf_vec= TfidfVectorizer(ngram_range=(1,2))\n",
        "final_tf_idf=tf_idf_vec.fit_transform(final_data['Text'].values)"
      ],
      "execution_count": 0,
      "outputs": []
    },
    {
      "cell_type": "code",
      "metadata": {
        "id": "_EO_Gew9eeJE",
        "colab_type": "code",
        "outputId": "a2e1aa2f-5dc6-471e-f123-98576911e11e",
        "colab": {
          "base_uri": "https://localhost:8080/",
          "height": 34
        }
      },
      "source": [
        "final_tf_idf.get_shape()"
      ],
      "execution_count": 48,
      "outputs": [
        {
          "output_type": "execute_result",
          "data": {
            "text/plain": [
              "(4986, 148211)"
            ]
          },
          "metadata": {
            "tags": []
          },
          "execution_count": 48
        }
      ]
    },
    {
      "cell_type": "code",
      "metadata": {
        "id": "iyeRFITKe7Oe",
        "colab_type": "code",
        "outputId": "e3c3afc7-6414-42f3-f70b-20a5bde2703d",
        "colab": {
          "base_uri": "https://localhost:8080/",
          "height": 34
        }
      },
      "source": [
        "features = tf_idf_vec.get_feature_names()\n",
        "len(features)"
      ],
      "execution_count": 49,
      "outputs": [
        {
          "output_type": "execute_result",
          "data": {
            "text/plain": [
              "148211"
            ]
          },
          "metadata": {
            "tags": []
          },
          "execution_count": 49
        }
      ]
    },
    {
      "cell_type": "code",
      "metadata": {
        "id": "JKpjKTogfE5F",
        "colab_type": "code",
        "outputId": "b120a565-8fba-4374-f754-257b732b29a2",
        "colab": {
          "base_uri": "https://localhost:8080/",
          "height": 187
        }
      },
      "source": [
        "features[100000:100010]"
      ],
      "execution_count": 50,
      "outputs": [
        {
          "output_type": "execute_result",
          "data": {
            "text/plain": [
              "['product actually',\n",
              " 'product add',\n",
              " 'product added',\n",
              " 'product advertises',\n",
              " 'product after',\n",
              " 'product again',\n",
              " 'product all',\n",
              " 'product allows',\n",
              " 'product almost',\n",
              " 'product also']"
            ]
          },
          "metadata": {
            "tags": []
          },
          "execution_count": 50
        }
      ]
    },
    {
      "cell_type": "code",
      "metadata": {
        "id": "Fq4xKbeZfX4d",
        "colab_type": "code",
        "outputId": "bdbca88d-6ca2-4356-8e91-94add39aad38",
        "colab": {
          "base_uri": "https://localhost:8080/",
          "height": 34
        }
      },
      "source": [
        "#convert a roe into sparse matrix to numpy array\n",
        "print(final_tf_idf[1,:].toarray()[0])"
      ],
      "execution_count": 51,
      "outputs": [
        {
          "output_type": "stream",
          "text": [
            "[0. 0. 0. ... 0. 0. 0.]\n"
          ],
          "name": "stdout"
        }
      ]
    },
    {
      "cell_type": "code",
      "metadata": {
        "id": "uLbDdx-G3dHs",
        "colab_type": "code",
        "colab": {}
      },
      "source": [
        "i=0\n",
        "list_of_sentance=[]\n",
        "for sentance in preprocessed_reviews:\n",
        "    list_of_sentance.append(sentance.split())"
      ],
      "execution_count": 0,
      "outputs": []
    },
    {
      "cell_type": "code",
      "metadata": {
        "id": "Ti8opkSAh52h",
        "colab_type": "code",
        "outputId": "45b80729-380e-435a-d047-bf2744a9f120",
        "colab": {
          "base_uri": "https://localhost:8080/",
          "height": 88
        }
      },
      "source": [
        "from gensim.models import Word2Vec\n",
        "from gensim.models import KeyedVectors\n",
        "\n",
        "is_your_ram_gt_16g=False\n",
        "want_to_use_google_w2v = False\n",
        "want_to_train_w2v = True\n",
        "\n",
        "if want_to_train_w2v:\n",
        "    # min_count = 5 considers only words that occured atleast 5 times\n",
        "    w2v_model=Word2Vec(list_of_sentance,min_count=5,size=50, workers=4)\n",
        "    print(w2v_model.wv.most_similar('great'))\n",
        "    print('='*50)\n",
        "    print(w2v_model.wv.most_similar('worst'))\n",
        "    \n",
        "elif want_to_use_google_w2v and is_your_ram_gt_16g:\n",
        "    if os.path.isfile('GoogleNews-vectors-negative300.bin'):\n",
        "        w2v_model=KeyedVectors.load_word2vec_format('GoogleNews-vectors-negative300.bin', binary=True)\n",
        "        print(w2v_model.wv.most_similar('great'))\n",
        "        print(w2v_model.wv.most_similar('worst'))\n",
        "    else:\n",
        "        print(\"you don't have gogole's word2vec file, keep want_to_train_w2v = True, to train your own w2v \")"
      ],
      "execution_count": 53,
      "outputs": [
        {
          "output_type": "stream",
          "text": [
            "[('excellent', 0.9968652725219727), ('especially', 0.9964615702629089), ('amazing', 0.996401846408844), ('grey', 0.9963382482528687), ('overall', 0.9963001608848572), ('chewy', 0.996292233467102), ('tender', 0.9962608218193054), ('alternative', 0.9962392449378967), ('salsa', 0.9961856007575989), ('crispy', 0.9959666728973389)]\n",
            "==================================================\n",
            "[('remember', 0.9993783235549927), ('pods', 0.9993764162063599), ('totally', 0.9993599057197571), ('type', 0.9993300437927246), ('special', 0.9992913007736206), ('wow', 0.9992794990539551), ('simply', 0.999275267124176), ('similar', 0.9992696046829224), ('part', 0.9992631077766418), ('enjoyed', 0.9992589950561523)]\n"
          ],
          "name": "stdout"
        }
      ]
    },
    {
      "cell_type": "code",
      "metadata": {
        "id": "uTyw-Smp3-Kb",
        "colab_type": "code",
        "colab": {}
      },
      "source": [
        ""
      ],
      "execution_count": 0,
      "outputs": []
    }
  ]
}